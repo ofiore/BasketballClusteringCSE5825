{
 "cells": [
  {
   "cell_type": "code",
   "execution_count": 2,
   "metadata": {},
   "outputs": [],
   "source": [
    "import numpy as np\n",
    "import pandas as pd"
   ]
  },
  {
   "cell_type": "code",
   "execution_count": 5,
   "metadata": {},
   "outputs": [],
   "source": [
    "df = pd.read_csv(\"../Data/2023Data.csv\")\n",
    "df = df[df['G'] > 10]\n",
    "duplicates_mask = df['Player'].duplicated(keep='first')\n",
    "df_no_dup = df[~duplicates_mask]\n",
    "df_no_dup.to_csv(\"../Data/2023NoDup.csv\")"
   ]
  },
  {
   "cell_type": "code",
   "execution_count": 6,
   "metadata": {},
   "outputs": [],
   "source": [
    "df = pd.read_csv(\"../Data/2022Data.csv\")\n",
    "df = df[df['G'] > 10]\n",
    "duplicates_mask = df['Player'].duplicated(keep='first')\n",
    "df_no_dup = df[~duplicates_mask]\n",
    "df_no_dup.to_csv(\"../Data/2022NoDup.csv\")"
   ]
  },
  {
   "cell_type": "code",
   "execution_count": 7,
   "metadata": {},
   "outputs": [],
   "source": [
    "df = pd.read_csv(\"../Data/2021Data.csv\")\n",
    "df = df[df['G'] > 10]\n",
    "duplicates_mask = df['Player'].duplicated(keep='first')\n",
    "df_no_dup = df[~duplicates_mask]\n",
    "df_no_dup.to_csv(\"../Data/2021NoDup.csv\")"
   ]
  },
  {
   "cell_type": "code",
   "execution_count": 8,
   "metadata": {},
   "outputs": [],
   "source": [
    "df = pd.read_csv(\"../Data/2020Data.csv\")\n",
    "df = df[df['G'] > 10]\n",
    "duplicates_mask = df['Player'].duplicated(keep='first')\n",
    "df_no_dup = df[~duplicates_mask]\n",
    "df_no_dup.to_csv(\"../Data/2020NoDup.csv\")"
   ]
  },
  {
   "cell_type": "code",
   "execution_count": 9,
   "metadata": {},
   "outputs": [],
   "source": [
    "df = pd.read_csv(\"../Data/2019Data.csv\")\n",
    "df = df[df['G'] > 10]\n",
    "duplicates_mask = df['Player'].duplicated(keep='first')\n",
    "df_no_dup = df[~duplicates_mask]\n",
    "df_no_dup.to_csv(\"../Data/2019NoDup.csv\")"
   ]
  },
  {
   "cell_type": "code",
   "execution_count": 13,
   "metadata": {},
   "outputs": [
    {
     "name": "stderr",
     "output_type": "stream",
     "text": [
      "C:\\Users\\ofior\\AppData\\Local\\Temp\\ipykernel_2876\\344658039.py:6: FutureWarning: The frame.append method is deprecated and will be removed from pandas in a future version. Use pandas.concat instead.\n",
      "  df = one.append(two, ignore_index = True)\n",
      "C:\\Users\\ofior\\AppData\\Local\\Temp\\ipykernel_2876\\344658039.py:7: FutureWarning: The frame.append method is deprecated and will be removed from pandas in a future version. Use pandas.concat instead.\n",
      "  df = df.append(three)\n",
      "C:\\Users\\ofior\\AppData\\Local\\Temp\\ipykernel_2876\\344658039.py:8: FutureWarning: The frame.append method is deprecated and will be removed from pandas in a future version. Use pandas.concat instead.\n",
      "  df = df.append(four)\n",
      "C:\\Users\\ofior\\AppData\\Local\\Temp\\ipykernel_2876\\344658039.py:9: FutureWarning: The frame.append method is deprecated and will be removed from pandas in a future version. Use pandas.concat instead.\n",
      "  df = df.append(five)\n"
     ]
    }
   ],
   "source": [
    "one = pd.read_csv(\"../Data/2023NoDup.csv\")\n",
    "two = pd.read_csv(\"../Data/2022NoDup.csv\")\n",
    "three = pd.read_csv(\"../Data/2021NoDup.csv\")\n",
    "four = pd.read_csv(\"../Data/2020NoDup.csv\")\n",
    "five = pd.read_csv(\"../Data/2019NoDup.csv\")\n",
    "df = one.append(two, ignore_index = True)\n",
    "df = df.append(three)\n",
    "df = df.append(four)\n",
    "df = df.append(five)"
   ]
  },
  {
   "cell_type": "code",
   "execution_count": 16,
   "metadata": {},
   "outputs": [],
   "source": [
    "df.to_csv(\"../Full.csv\")"
   ]
  },
  {
   "cell_type": "code",
   "execution_count": 66,
   "metadata": {},
   "outputs": [],
   "source": [
    "ex = df.iloc[:, [2,3,4,5,6,7,8, 9,10,11,12,13,14,15,16,17,18,19,20,21,22,23,24,25,26, 27, 28, 29, 30, 39, 62, 63, 72, 73, 75, 76, 77, 78, 79, 80, 81, 82, 83, 85, 86, 87, 88, 90, 91, 92, 93, 102, 103, 104, 105, 106, 107, 108, 109, 110, 111, 112, 113, 114, 115, 116, 117, 127, 129, 130, 131, 132, 133, 134, 137, 138, 139, 140, 143, 144, 146, 147, 149, 150, 155 ]]\n",
    "ex.to_csv(\"Trying.csv\")"
   ]
  },
  {
   "cell_type": "code",
   "execution_count": null,
   "metadata": {},
   "outputs": [],
   "source": []
  }
 ],
 "metadata": {
  "kernelspec": {
   "display_name": "Python 3",
   "language": "python",
   "name": "python3"
  },
  "language_info": {
   "codemirror_mode": {
    "name": "ipython",
    "version": 3
   },
   "file_extension": ".py",
   "mimetype": "text/x-python",
   "name": "python",
   "nbconvert_exporter": "python",
   "pygments_lexer": "ipython3",
   "version": "3.11.4"
  }
 },
 "nbformat": 4,
 "nbformat_minor": 2
}
